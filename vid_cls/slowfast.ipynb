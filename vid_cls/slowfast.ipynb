{
 "cells": [
  {
   "cell_type": "code",
   "execution_count": 1,
   "metadata": {},
   "outputs": [
    {
     "name": "stderr",
     "output_type": "stream",
     "text": [
      "c:\\Users\\29197\\miniconda3\\envs\\566_new\\lib\\site-packages\\tqdm\\auto.py:21: TqdmWarning: IProgress not found. Please update jupyter and ipywidgets. See https://ipywidgets.readthedocs.io/en/stable/user_install.html\n",
      "  from .autonotebook import tqdm as notebook_tqdm\n"
     ]
    }
   ],
   "source": [
    "import torch\n",
    "from pytorchvideo.models.hub import (  # noqa: F401, E402\n",
    "\n",
    "    slowfast_r50,\n",
    "    slowfast_r50_detection,\n",
    "    x3d_l,\n",
    "    x3d_m,\n",
    "    x3d_s,\n",
    "    x3d_xs,\n",
    ")\n",
    "\n",
    "from torch.hub import load_state_dict_from_url\n",
    "\n",
    "device = 'cuda' if torch.cuda.is_available() else 'cpu'\n",
    "\n"
   ]
  },
  {
   "cell_type": "code",
   "execution_count": 2,
   "metadata": {},
   "outputs": [],
   "source": [
    "import json\n",
    "labels = 'G:\\\\.shortcut-targets-by-id\\\\1eyTB0qCfXgrxNsrmWNeLNbd5sTKzP5HT\\\\Data Wizards\\\\dataset\\\\labels\\\\min.json'\n",
    "with open(labels, 'r') as file:\n",
    "    vid_label = json.load(file)"
   ]
  },
  {
   "cell_type": "code",
   "execution_count": 3,
   "metadata": {},
   "outputs": [],
   "source": [
    "category_mapping = {}\n",
    "choice_mapping = {}\n",
    "\n",
    "for i in vid_label:\n",
    "    name = i['video'][i['video'].rfind('/') + 1:]\n",
    "    if 'choice' in i.keys():\n",
    "        choice = i['choice']\n",
    "        if choice not in choice_mapping.keys():\n",
    "            choice_mapping[choice] = len(choice_mapping)\n",
    "        category_mapping[name] = choice_mapping[choice]"
   ]
  },
  {
   "cell_type": "code",
   "execution_count": 4,
   "metadata": {},
   "outputs": [
    {
     "name": "stderr",
     "output_type": "stream",
     "text": [
      "c:\\Users\\29197\\miniconda3\\envs\\566_new\\lib\\site-packages\\torchvision\\transforms\\_functional_video.py:6: UserWarning: The 'torchvision.transforms._functional_video' module is deprecated since 0.12 and will be removed in the future. Please use the 'torchvision.transforms.functional' module instead.\n",
      "  warnings.warn(\n",
      "c:\\Users\\29197\\miniconda3\\envs\\566_new\\lib\\site-packages\\torchvision\\transforms\\_transforms_video.py:22: UserWarning: The 'torchvision.transforms._transforms_video' module is deprecated since 0.12 and will be removed in the future. Please use the 'torchvision.transforms' module instead.\n",
      "  warnings.warn(\n"
     ]
    }
   ],
   "source": [
    "from pytorchvideo.transforms import (\n",
    "    ApplyTransformToKey,\n",
    "    ShortSideScale,\n",
    "    UniformTemporalSubsample,\n",
    "    UniformCropVideo\n",
    ") \n",
    "from torchvision.transforms import Compose, Lambda\n",
    "from torchvision.transforms._transforms_video import (\n",
    "    CenterCropVideo,\n",
    "    NormalizeVideo,\n",
    ")\n",
    "\n",
    "side_size = 256\n",
    "mean = [0.45, 0.45, 0.45]\n",
    "std = [0.225, 0.225, 0.225]\n",
    "crop_size = 256\n",
    "num_frames = 32\n",
    "sampling_rate = 2\n",
    "frames_per_second = 30\n",
    "slowfast_alpha = 4\n",
    "slow_num_frames = num_frames // slowfast_alpha\n",
    "num_clips = 10\n",
    "num_crops = 3\n",
    "\n",
    "class PackPathway(torch.nn.Module):\n",
    "    \"\"\"\n",
    "    Transform for converting video frames as a list of tensors. \n",
    "    \"\"\"\n",
    "    def __init__(self):\n",
    "        super().__init__()\n",
    "        \n",
    "    def forward(self, frames: torch.Tensor):\n",
    "        fast_pathway = frames\n",
    "        # Perform temporal sampling from the fast pathway.\n",
    "        slow_pathway = torch.index_select(\n",
    "            frames,\n",
    "            1,\n",
    "            torch.linspace(\n",
    "                0, frames.shape[1] - 1, slow_num_frames\n",
    "            ).long(),\n",
    "        )\n",
    "        frame_list = [slow_pathway, fast_pathway]\n",
    "        return frame_list\n",
    "    \n",
    "transform =  ApplyTransformToKey(\n",
    "    key=\"video\",\n",
    "    transform=Compose(\n",
    "        [\n",
    "            UniformTemporalSubsample(num_frames),\n",
    "            Lambda(lambda x: x/255.0),\n",
    "            NormalizeVideo(mean, std),\n",
    "            ShortSideScale(\n",
    "                size=side_size\n",
    "            ),\n",
    "            CenterCropVideo(crop_size),\n",
    "            PackPathway()\n",
    "        ]\n",
    "    ),\n",
    ")"
   ]
  },
  {
   "cell_type": "code",
   "execution_count": 5,
   "metadata": {},
   "outputs": [],
   "source": [
    "import os\n",
    "import json\n",
    "from pytorchvideo.data.encoded_video import EncodedVideo\n",
    "import gc\n",
    "\n",
    "vid_file = 'G:\\\\.shortcut-targets-by-id\\\\1eyTB0qCfXgrxNsrmWNeLNbd5sTKzP5HT\\\\Data Wizards\\\\dataset\\\\videoSync'\n",
    "\n",
    "vids_tensor = []\n",
    "vids_category = []\n",
    "\n",
    "\n",
    "for root, dirs, files in os.walk(vid_file):\n",
    "    for name in files:\n",
    "        vid_path = os.path.join(root, name)\n",
    "        if not vid_path.endswith('.mp4') or name not in category_mapping.keys():\n",
    "            continue\n",
    "        video = EncodedVideo.from_path(vid_path)\n",
    "        video_data = video.get_clip(start_sec=0, end_sec=3)\n",
    "        del video\n",
    "        gc.collect()\n",
    "        vids_tensor.append(transform(video_data)['video'])\n",
    "        vids_category.append(category_mapping[name])\n"
   ]
  },
  {
   "cell_type": "code",
   "execution_count": 14,
   "metadata": {},
   "outputs": [],
   "source": [
    "# Choose the `slowfast_r50` model \n",
    "# model = torch.hub.load('facebookresearch/pytorchvideo', 'slowfast_r50', pretrained=True, model_num_class = 5)\n",
    "model = slowfast_r50(pretrained=False, model_num_class = 5).to(device)\n",
    "\n",
    "\n",
    "root_dir = \"https://dl.fbaipublicfiles.com/pytorchvideo/model_zoo\"\n",
    "checkpoint_paths = {\n",
    "    \"slowfast_r50\": f\"{root_dir}/kinetics/SLOWFAST_8x8_R50.pyth\",\n",
    "    \"slowfast_r50_detection\": f\"{root_dir}/ava/SLOWFAST_8x8_R50_DETECTION.pyth\",\n",
    "    \"slowfast_r101\": f\"{root_dir}/kinetics/SLOWFAST_8x8_R101.pyth\",\n",
    "    \"slowfast_16x8_r101_50_50\": f\"{root_dir}/kinetics/SLOWFAST_16x8_R101_50_50.pyth\",\n",
    "}\n",
    "\n",
    "checkpoint = load_state_dict_from_url(checkpoint_paths[\"slowfast_r50\"])\n",
    "state_dict = checkpoint[\"model_state\"]\n",
    "\n",
    "\n",
    "\n",
    "with torch.no_grad():\n",
    "    # for name, weight in model.state_dict().items():\n",
    "    for k in model.state_dict().keys():\n",
    "        # print(type(model.state_dict()[k]))\n",
    "        # model.state_dict()[k].set_(torch.ones(size=model.state_dict()[k].shape, dtype=model.state_dict()[k].dtype))\n",
    "        # print(model.state_dict()[k].shape)\n",
    "        if model.state_dict()[k].shape and model.state_dict()[k].shape == state_dict[k].shape:\n",
    "            model.state_dict()[k][:] = state_dict[k]\n",
    "# model.load_state_dict()\n",
    "\n",
    "# model = mvit_base_16x4(pretrained=False)\n",
    "# print(model)\n",
    "\n",
    "del state_dict"
   ]
  },
  {
   "cell_type": "code",
   "execution_count": 7,
   "metadata": {},
   "outputs": [
    {
     "data": {
      "text/plain": [
       "0"
      ]
     },
     "execution_count": 7,
     "metadata": {},
     "output_type": "execute_result"
    }
   ],
   "source": [
    "import gc\n",
    "torch.cuda.empty_cache()\n",
    "gc.collect(0)"
   ]
  },
  {
   "cell_type": "code",
   "execution_count": 15,
   "metadata": {},
   "outputs": [
    {
     "name": "stderr",
     "output_type": "stream",
     "text": [
      "100%|██████████| 48/48 [00:16<00:00,  2.91it/s]\n"
     ]
    },
    {
     "name": "stdout",
     "output_type": "stream",
     "text": [
      "0 train loss:1.0154871900255482\n",
      "0.6458333333333334\n"
     ]
    },
    {
     "name": "stderr",
     "output_type": "stream",
     "text": [
      "100%|██████████| 48/48 [00:16<00:00,  2.96it/s]\n"
     ]
    },
    {
     "name": "stdout",
     "output_type": "stream",
     "text": [
      "1 train loss:0.5849497207285216\n",
      "0.8125\n"
     ]
    },
    {
     "name": "stderr",
     "output_type": "stream",
     "text": [
      "100%|██████████| 48/48 [00:16<00:00,  2.93it/s]\n"
     ]
    },
    {
     "name": "stdout",
     "output_type": "stream",
     "text": [
      "2 train loss:0.2899218066013418\n",
      "0.9583333333333334\n"
     ]
    },
    {
     "name": "stderr",
     "output_type": "stream",
     "text": [
      "100%|██████████| 48/48 [00:16<00:00,  2.95it/s]\n"
     ]
    },
    {
     "name": "stdout",
     "output_type": "stream",
     "text": [
      "3 train loss:0.11295494400352861\n",
      "1.0\n"
     ]
    },
    {
     "name": "stderr",
     "output_type": "stream",
     "text": [
      "100%|██████████| 48/48 [00:16<00:00,  2.90it/s]"
     ]
    },
    {
     "name": "stdout",
     "output_type": "stream",
     "text": [
      "4 train loss:0.05074871005732954\n",
      "1.0\n"
     ]
    },
    {
     "name": "stderr",
     "output_type": "stream",
     "text": [
      "\n"
     ]
    }
   ],
   "source": [
    "from torch.nn import CrossEntropyLoss\n",
    "from torch.optim import SGD, Adam\n",
    "import numpy as np\n",
    "import tqdm\n",
    "import math\n",
    "\n",
    "\n",
    "\n",
    "epoch = 5\n",
    "batch_size = 2\n",
    "num_categories = 5\n",
    "\n",
    "\n",
    "optimizer = Adam(model.parameters(), lr=1e-4)\n",
    "train_size = len(vids_tensor)\n",
    "steps = math.ceil(train_size / batch_size)\n",
    "crossEntropy = CrossEntropyLoss()\n",
    "\n",
    "# input = [torch.zeros(size=(batch_size, 3, slow_num_frames, crop_size, crop_size), device= device), \n",
    "#         torch.zeros(size=(batch_size, 3, num_frames, crop_size, crop_size), device= device)]\n",
    "\n",
    "target = torch.zeros(size=(batch_size,), device= device, dtype= torch.long)\n",
    "\n",
    "for epoch_i in range(0, epoch):\n",
    "    model.train()\n",
    "    reordered = torch.randperm(train_size)\n",
    "    loss_list = []\n",
    "\n",
    "    idx = 0\n",
    "    all = 0\n",
    "    correct = 0\n",
    "\n",
    "    \n",
    "    for step in tqdm.tqdm(range(steps)):\n",
    "        input = [[],[]]\n",
    "        for i in range(batch_size):\n",
    "            if idx == train_size:\n",
    "                break\n",
    "            \n",
    "            input[0].append(vids_tensor[reordered[idx]][0].unsqueeze(0))\n",
    "            input[1].append(vids_tensor[reordered[idx]][1].unsqueeze(0))\n",
    "\n",
    "\n",
    "            target[i] = vids_category[reordered[idx]]\n",
    "            \n",
    "            idx += 1\n",
    "        input[0] = torch.cat(tuple(input[0]), dim=0).to(device)\n",
    "        input[1] = torch.cat(tuple(input[1]), dim=0).to(device)\n",
    "        # print(input[0].shape)\n",
    "        output = model(input)\n",
    "        \n",
    "        \n",
    "        loss = crossEntropy(output, target)\n",
    "\n",
    "        correct += torch.sum(torch.argmax(output, dim= 1) == target).item()\n",
    "        all += batch_size\n",
    "\n",
    "        \n",
    "        optimizer.zero_grad()\n",
    "        loss.backward()\n",
    "        loss_list.append(loss.item())\n",
    "        optimizer.step()\n",
    "\n",
    "        del input\n",
    "\n",
    "    torch.cuda.empty_cache()\n",
    "    gc.collect()\n",
    "    print(epoch_i, end = ' train loss:')\n",
    "    print(np.mean(loss_list))\n",
    "\n",
    "    print(correct / all)\n",
    "    \n",
    "\n"
   ]
  },
  {
   "cell_type": "code",
   "execution_count": 11,
   "metadata": {},
   "outputs": [
    {
     "name": "stdout",
     "output_type": "stream",
     "text": [
      "0.3958333333333333\n"
     ]
    }
   ],
   "source": [
    "print(correct / all)"
   ]
  },
  {
   "cell_type": "code",
   "execution_count": 54,
   "metadata": {},
   "outputs": [
    {
     "data": {
      "text/plain": [
       "torch.Size([1, 5])"
      ]
     },
     "execution_count": 54,
     "metadata": {},
     "output_type": "execute_result"
    }
   ],
   "source": [
    "output.shape"
   ]
  },
  {
   "cell_type": "code",
   "execution_count": 31,
   "metadata": {},
   "outputs": [
    {
     "data": {
      "text/plain": [
       "torch.Size([3, 8, 256, 256])"
      ]
     },
     "execution_count": 31,
     "metadata": {},
     "output_type": "execute_result"
    }
   ],
   "source": [
    "vids_tensor[reordered[idx]][0].shape"
   ]
  },
  {
   "cell_type": "code",
   "execution_count": 40,
   "metadata": {},
   "outputs": [
    {
     "data": {
      "text/plain": [
       "torch.Size([1, 64, 8, 64, 64])"
      ]
     },
     "execution_count": 40,
     "metadata": {},
     "output_type": "execute_result"
    }
   ],
   "source": [
    "input[0].shape"
   ]
  },
  {
   "cell_type": "code",
   "execution_count": 38,
   "metadata": {},
   "outputs": [
    {
     "data": {
      "text/plain": [
       "torch.Size([1, 64, 8, 64, 64])"
      ]
     },
     "execution_count": 38,
     "metadata": {},
     "output_type": "execute_result"
    }
   ],
   "source": [
    "input[0].shape"
   ]
  },
  {
   "cell_type": "code",
   "execution_count": 33,
   "metadata": {},
   "outputs": [],
   "source": [
    "input = [torch.zeros(size=(batch_size, 3, slow_num_frames, crop_size, crop_size), device= device), \n",
    "        torch.zeros(size=(batch_size, 3, num_frames, crop_size, crop_size), device= device)]"
   ]
  }
 ],
 "metadata": {
  "kernelspec": {
   "display_name": "566_new",
   "language": "python",
   "name": "python3"
  },
  "language_info": {
   "codemirror_mode": {
    "name": "ipython",
    "version": 3
   },
   "file_extension": ".py",
   "mimetype": "text/x-python",
   "name": "python",
   "nbconvert_exporter": "python",
   "pygments_lexer": "ipython3",
   "version": "3.9.16"
  },
  "orig_nbformat": 4
 },
 "nbformat": 4,
 "nbformat_minor": 2
}
